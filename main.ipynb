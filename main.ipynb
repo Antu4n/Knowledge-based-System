{
 "cells": [
  {
   "cell_type": "markdown",
   "metadata": {},
   "source": [
    "From the traffic accidents data classify if a road is safe or dangerous "
   ]
  },
  {
   "cell_type": "code",
   "execution_count": 1,
   "metadata": {},
   "outputs": [],
   "source": [
    "#import dependencies\n",
    "import pandas as pd\n",
    "import numpy as np"
   ]
  },
  {
   "cell_type": "code",
   "execution_count": 2,
   "metadata": {},
   "outputs": [
    {
     "data": {
      "text/html": [
       "<div>\n",
       "<style scoped>\n",
       "    .dataframe tbody tr th:only-of-type {\n",
       "        vertical-align: middle;\n",
       "    }\n",
       "\n",
       "    .dataframe tbody tr th {\n",
       "        vertical-align: top;\n",
       "    }\n",
       "\n",
       "    .dataframe thead th {\n",
       "        text-align: right;\n",
       "    }\n",
       "</style>\n",
       "<table border=\"1\" class=\"dataframe\">\n",
       "  <thead>\n",
       "    <tr style=\"text-align: right;\">\n",
       "      <th></th>\n",
       "      <th>Date</th>\n",
       "      <th>Accident Spot</th>\n",
       "      <th>Area</th>\n",
       "      <th>County</th>\n",
       "      <th>Road/ Highway</th>\n",
       "      <th>Brief Accident Details/Cause</th>\n",
       "      <th>Victims</th>\n",
       "      <th>Total people confirmed dead</th>\n",
       "      <th>Time of the Accidents</th>\n",
       "      <th>Weather conditions</th>\n",
       "    </tr>\n",
       "  </thead>\n",
       "  <tbody>\n",
       "    <tr>\n",
       "      <th>0</th>\n",
       "      <td>2023-08-08</td>\n",
       "      <td>Sobea</td>\n",
       "      <td>Sobea</td>\n",
       "      <td>Nakuru</td>\n",
       "      <td>Nakuru-Eldoret Highway</td>\n",
       "      <td>Head on Collision</td>\n",
       "      <td>Passengers</td>\n",
       "      <td>4</td>\n",
       "      <td>4.30 pm</td>\n",
       "      <td>NaN</td>\n",
       "    </tr>\n",
       "    <tr>\n",
       "      <th>1</th>\n",
       "      <td>2023-08-07</td>\n",
       "      <td>Maai-Mahiu</td>\n",
       "      <td>Naivasha</td>\n",
       "      <td>Nakuru</td>\n",
       "      <td>Maai-Mahiu Naivasha Highway</td>\n",
       "      <td>vehicle and motorcycle collision</td>\n",
       "      <td>Passengers</td>\n",
       "      <td>1</td>\n",
       "      <td>5.50 pm</td>\n",
       "      <td>NaN</td>\n",
       "    </tr>\n",
       "    <tr>\n",
       "      <th>2</th>\n",
       "      <td>2023-07-25</td>\n",
       "      <td>Ntulele</td>\n",
       "      <td>Ntulele</td>\n",
       "      <td>Narok</td>\n",
       "      <td>Narok Mai Mahiu road</td>\n",
       "      <td>Head on Collision</td>\n",
       "      <td>Drivers/Occupants</td>\n",
       "      <td>4</td>\n",
       "      <td>NaN</td>\n",
       "      <td>NaN</td>\n",
       "    </tr>\n",
       "    <tr>\n",
       "      <th>3</th>\n",
       "      <td>2022-12-02</td>\n",
       "      <td>Suswa</td>\n",
       "      <td>Suswa</td>\n",
       "      <td>Narok</td>\n",
       "      <td>Narok Mai Mahiu road</td>\n",
       "      <td>Head on Collision</td>\n",
       "      <td>Driver and passengers</td>\n",
       "      <td>3</td>\n",
       "      <td>6.00 pm</td>\n",
       "      <td>NaN</td>\n",
       "    </tr>\n",
       "    <tr>\n",
       "      <th>4</th>\n",
       "      <td>2022-12-01</td>\n",
       "      <td>Mutira</td>\n",
       "      <td>Mutira</td>\n",
       "      <td>Kirinyaga</td>\n",
       "      <td>Kerugoya-Karatina Road</td>\n",
       "      <td>Run over</td>\n",
       "      <td>Pedestrian</td>\n",
       "      <td>1</td>\n",
       "      <td>NaN</td>\n",
       "      <td>NaN</td>\n",
       "    </tr>\n",
       "  </tbody>\n",
       "</table>\n",
       "</div>"
      ],
      "text/plain": [
       "        Date Accident Spot      Area     County                Road/ Highway  \\\n",
       "0 2023-08-08         Sobea     Sobea     Nakuru       Nakuru-Eldoret Highway   \n",
       "1 2023-08-07    Maai-Mahiu  Naivasha     Nakuru  Maai-Mahiu Naivasha Highway   \n",
       "2 2023-07-25       Ntulele   Ntulele      Narok         Narok Mai Mahiu road   \n",
       "3 2022-12-02         Suswa     Suswa      Narok         Narok Mai Mahiu road   \n",
       "4 2022-12-01        Mutira    Mutira  Kirinyaga       Kerugoya-Karatina Road   \n",
       "\n",
       "       Brief Accident Details/Cause                Victims  \\\n",
       "0                 Head on Collision             Passengers   \n",
       "1  vehicle and motorcycle collision             Passengers   \n",
       "2                 Head on Collision      Drivers/Occupants   \n",
       "3                 Head on Collision  Driver and passengers   \n",
       "4                          Run over             Pedestrian   \n",
       "\n",
       "  Total people confirmed dead Time of the Accidents Weather conditions  \n",
       "0                           4               4.30 pm                NaN  \n",
       "1                           1               5.50 pm                NaN  \n",
       "2                           4                   NaN                NaN  \n",
       "3                           3               6.00 pm                NaN  \n",
       "4                           1                   NaN                NaN  "
      ]
     },
     "execution_count": 2,
     "metadata": {},
     "output_type": "execute_result"
    }
   ],
   "source": [
    "#load the data\n",
    "traffic_df = pd.read_excel('data\\TRAFFIC ACCIDENTS DATA.xlsx')\n",
    "traffic_df.head()"
   ]
  },
  {
   "cell_type": "code",
   "execution_count": 3,
   "metadata": {},
   "outputs": [
    {
     "name": "stdout",
     "output_type": "stream",
     "text": [
      "Total people confirmed dead\n",
      "1     11\n",
      "0     11\n",
      "3      9\n",
      "4      8\n",
      "2      7\n",
      "5      6\n",
      "7      6\n",
      "6      3\n",
      "18     2\n",
      "14     2\n",
      "-      1\n",
      "8      1\n",
      "52     1\n",
      "10     1\n",
      "20     1\n",
      "12     1\n",
      "11     1\n",
      "Name: count, dtype: int64\n"
     ]
    }
   ],
   "source": [
    "# print(traffic_df[\"Brief Accident Details/Cause\"].unique())\n",
    "print(traffic_df[\"Total people confirmed dead\"].value_counts())\n",
    "\n",
    "# print(traffic_df[\"Road/ Highway\"].value_counts())"
   ]
  },
  {
   "cell_type": "markdown",
   "metadata": {},
   "source": [
    "## Data Preprocessing\n"
   ]
  },
  {
   "cell_type": "code",
   "execution_count": 4,
   "metadata": {},
   "outputs": [
    {
     "name": "stdout",
     "output_type": "stream",
     "text": [
      "<class 'pandas.core.frame.DataFrame'>\n",
      "RangeIndex: 81 entries, 0 to 80\n",
      "Data columns (total 10 columns):\n",
      " #   Column                        Non-Null Count  Dtype         \n",
      "---  ------                        --------------  -----         \n",
      " 0   Date                          80 non-null     datetime64[ns]\n",
      " 1   Accident Spot                 81 non-null     object        \n",
      " 2   Area                          81 non-null     object        \n",
      " 3   County                        81 non-null     object        \n",
      " 4   Road/ Highway                 80 non-null     object        \n",
      " 5   Brief Accident Details/Cause  79 non-null     object        \n",
      " 6   Victims                       63 non-null     object        \n",
      " 7   Total people confirmed dead   72 non-null     object        \n",
      " 8   Time of the Accidents         25 non-null     object        \n",
      " 9   Weather conditions            1 non-null      object        \n",
      "dtypes: datetime64[ns](1), object(9)\n",
      "memory usage: 6.5+ KB\n"
     ]
    },
    {
     "data": {
      "text/plain": [
       "Date                             1\n",
       "Accident Spot                    0\n",
       "Area                             0\n",
       "County                           0\n",
       "Road/ Highway                    1\n",
       "Brief Accident Details/Cause     2\n",
       "Victims                         18\n",
       "Total people confirmed dead      9\n",
       "Time of the Accidents           56\n",
       "Weather conditions              80\n",
       "dtype: int64"
      ]
     },
     "execution_count": 4,
     "metadata": {},
     "output_type": "execute_result"
    }
   ],
   "source": [
    "traffic_df.info()\n",
    "#check for null values.\n",
    "traffic_df.isnull().sum()"
   ]
  },
  {
   "cell_type": "code",
   "execution_count": 5,
   "metadata": {},
   "outputs": [
    {
     "data": {
      "text/html": [
       "<div>\n",
       "<style scoped>\n",
       "    .dataframe tbody tr th:only-of-type {\n",
       "        vertical-align: middle;\n",
       "    }\n",
       "\n",
       "    .dataframe tbody tr th {\n",
       "        vertical-align: top;\n",
       "    }\n",
       "\n",
       "    .dataframe thead th {\n",
       "        text-align: right;\n",
       "    }\n",
       "</style>\n",
       "<table border=\"1\" class=\"dataframe\">\n",
       "  <thead>\n",
       "    <tr style=\"text-align: right;\">\n",
       "      <th></th>\n",
       "      <th>Road/ Highway</th>\n",
       "      <th>Victims</th>\n",
       "      <th>Total people confirmed dead</th>\n",
       "      <th>Time of the Accidents</th>\n",
       "    </tr>\n",
       "  </thead>\n",
       "  <tbody>\n",
       "    <tr>\n",
       "      <th>0</th>\n",
       "      <td>Nakuru-Eldoret Highway</td>\n",
       "      <td>Passengers</td>\n",
       "      <td>4</td>\n",
       "      <td>4.30 pm</td>\n",
       "    </tr>\n",
       "    <tr>\n",
       "      <th>1</th>\n",
       "      <td>Maai-Mahiu Naivasha Highway</td>\n",
       "      <td>Passengers</td>\n",
       "      <td>1</td>\n",
       "      <td>5.50 pm</td>\n",
       "    </tr>\n",
       "    <tr>\n",
       "      <th>2</th>\n",
       "      <td>Narok Mai Mahiu road</td>\n",
       "      <td>Drivers/Occupants</td>\n",
       "      <td>4</td>\n",
       "      <td>NaN</td>\n",
       "    </tr>\n",
       "    <tr>\n",
       "      <th>3</th>\n",
       "      <td>Narok Mai Mahiu road</td>\n",
       "      <td>Driver and passengers</td>\n",
       "      <td>3</td>\n",
       "      <td>6.00 pm</td>\n",
       "    </tr>\n",
       "    <tr>\n",
       "      <th>4</th>\n",
       "      <td>Kerugoya-Karatina Road</td>\n",
       "      <td>Pedestrian</td>\n",
       "      <td>1</td>\n",
       "      <td>NaN</td>\n",
       "    </tr>\n",
       "    <tr>\n",
       "      <th>...</th>\n",
       "      <td>...</td>\n",
       "      <td>...</td>\n",
       "      <td>...</td>\n",
       "      <td>...</td>\n",
       "    </tr>\n",
       "    <tr>\n",
       "      <th>76</th>\n",
       "      <td>Nairobi Kakamega road</td>\n",
       "      <td>Passengers</td>\n",
       "      <td>1</td>\n",
       "      <td>NaN</td>\n",
       "    </tr>\n",
       "    <tr>\n",
       "      <th>77</th>\n",
       "      <td>Namanga Road</td>\n",
       "      <td>Passengers</td>\n",
       "      <td>1</td>\n",
       "      <td>11.00 pm</td>\n",
       "    </tr>\n",
       "    <tr>\n",
       "      <th>78</th>\n",
       "      <td>Naivasha Nairobi Highway</td>\n",
       "      <td>Passengers</td>\n",
       "      <td>1</td>\n",
       "      <td>NaN</td>\n",
       "    </tr>\n",
       "    <tr>\n",
       "      <th>79</th>\n",
       "      <td>Nakuru - Nairobi highway</td>\n",
       "      <td>Passengers</td>\n",
       "      <td>4</td>\n",
       "      <td>NaN</td>\n",
       "    </tr>\n",
       "    <tr>\n",
       "      <th>80</th>\n",
       "      <td>Nakuru Eldoret Highway</td>\n",
       "      <td>Passengers</td>\n",
       "      <td>2</td>\n",
       "      <td>4.30 am</td>\n",
       "    </tr>\n",
       "  </tbody>\n",
       "</table>\n",
       "<p>81 rows × 4 columns</p>\n",
       "</div>"
      ],
      "text/plain": [
       "                  Road/ Highway                Victims  \\\n",
       "0        Nakuru-Eldoret Highway             Passengers   \n",
       "1   Maai-Mahiu Naivasha Highway             Passengers   \n",
       "2          Narok Mai Mahiu road      Drivers/Occupants   \n",
       "3          Narok Mai Mahiu road  Driver and passengers   \n",
       "4        Kerugoya-Karatina Road             Pedestrian   \n",
       "..                          ...                    ...   \n",
       "76        Nairobi Kakamega road             Passengers   \n",
       "77                 Namanga Road             Passengers   \n",
       "78     Naivasha Nairobi Highway             Passengers   \n",
       "79    Nakuru - Nairobi highway              Passengers   \n",
       "80       Nakuru Eldoret Highway             Passengers   \n",
       "\n",
       "   Total people confirmed dead Time of the Accidents  \n",
       "0                            4               4.30 pm  \n",
       "1                            1               5.50 pm  \n",
       "2                            4                   NaN  \n",
       "3                            3               6.00 pm  \n",
       "4                            1                   NaN  \n",
       "..                         ...                   ...  \n",
       "76                           1                   NaN  \n",
       "77                           1              11.00 pm  \n",
       "78                           1                   NaN  \n",
       "79                           4                   NaN  \n",
       "80                           2               4.30 am  \n",
       "\n",
       "[81 rows x 4 columns]"
      ]
     },
     "execution_count": 5,
     "metadata": {},
     "output_type": "execute_result"
    }
   ],
   "source": [
    "# drop columns\n",
    "traffic_df2 = traffic_df.copy()\n",
    "columns_to_drop = [\"Date\",\"Area\",\"County\",\"Accident Spot\",\"Brief Accident Details/Cause\",\"Weather conditions\"]\n",
    "traffic_df2.drop(columns = columns_to_drop, axis=1, inplace= True)\n",
    "traffic_df2"
   ]
  },
  {
   "cell_type": "code",
   "execution_count": 6,
   "metadata": {},
   "outputs": [
    {
     "data": {
      "text/plain": [
       "Total people confirmed dead\n",
       "1     11\n",
       "0     11\n",
       "3      9\n",
       "4      8\n",
       "2      7\n",
       "5      6\n",
       "7      6\n",
       "6      3\n",
       "18     2\n",
       "14     2\n",
       "-      1\n",
       "8      1\n",
       "52     1\n",
       "10     1\n",
       "20     1\n",
       "12     1\n",
       "11     1\n",
       "Name: count, dtype: int64"
      ]
     },
     "execution_count": 6,
     "metadata": {},
     "output_type": "execute_result"
    }
   ],
   "source": [
    "traffic_df2[\"Total people confirmed dead\"].value_counts()"
   ]
  },
  {
   "cell_type": "code",
   "execution_count": 7,
   "metadata": {},
   "outputs": [
    {
     "data": {
      "text/plain": [
       "Road/ Highway                   1\n",
       "Victims                        18\n",
       "Total people confirmed dead     0\n",
       "Time of the Accidents          56\n",
       "dtype: int64"
      ]
     },
     "execution_count": 7,
     "metadata": {},
     "output_type": "execute_result"
    }
   ],
   "source": [
    "traffic_df2[\"Total people confirmed dead\"] = traffic_df2[\"Total people confirmed dead\"].fillna(0)\n",
    "traffic_df2.isna().sum()\n"
   ]
  },
  {
   "cell_type": "code",
   "execution_count": 28,
   "metadata": {},
   "outputs": [
    {
     "data": {
      "text/plain": [
       "Victims\n",
       "Passengers                            39\n",
       "None                                  18\n",
       "Driver and passengers                 10\n",
       "Pedestrians                            5\n",
       "Occupants of the small vehicle         3\n",
       "Passengers and pedestrians             1\n",
       "Drivers,Passengers and pedestrians     1\n",
       "Rider                                  1\n",
       "Driver and other motorists             1\n",
       "Motorist                               1\n",
       "Name: count, dtype: int64"
      ]
     },
     "execution_count": 28,
     "metadata": {},
     "output_type": "execute_result"
    }
   ],
   "source": [
    "victims_map = {\n",
    "    \"Passengers and driver\": \"Driver and passengers\",\n",
    "    \"Pedestrian\": \"Pedestrians\",\n",
    "    \"Passengers and drivers\": \"Driver and passengers\",\n",
    "    \"Passenger\": \"Passengers\",\n",
    "    \"passengers\":\"Passengers\",\n",
    "    \"Passangers and driver\": \"Driver and passengers\",\n",
    "    \"Drivers/Occupants\": \"Occupants of the small vehicle\",\n",
    "    \"passenger\":\"Passengers\"\n",
    "}\n",
    "\n",
    "traffic_df2[\"Victims\"] = traffic_df2[\"Victims\"].str.strip().replace(victims_map)\n",
    "traffic_df2[\"Victims\"].value_counts()"
   ]
  },
  {
   "cell_type": "code",
   "execution_count": 31,
   "metadata": {},
   "outputs": [
    {
     "data": {
      "text/html": [
       "<div>\n",
       "<style scoped>\n",
       "    .dataframe tbody tr th:only-of-type {\n",
       "        vertical-align: middle;\n",
       "    }\n",
       "\n",
       "    .dataframe tbody tr th {\n",
       "        vertical-align: top;\n",
       "    }\n",
       "\n",
       "    .dataframe thead th {\n",
       "        text-align: right;\n",
       "    }\n",
       "</style>\n",
       "<table border=\"1\" class=\"dataframe\">\n",
       "  <thead>\n",
       "    <tr style=\"text-align: right;\">\n",
       "      <th></th>\n",
       "      <th>Date</th>\n",
       "      <th>Accident Spot</th>\n",
       "      <th>Area</th>\n",
       "      <th>County</th>\n",
       "      <th>Road/ Highway</th>\n",
       "      <th>Brief Accident Details/Cause</th>\n",
       "      <th>Victims</th>\n",
       "      <th>Total people confirmed dead</th>\n",
       "      <th>Time of the Accidents</th>\n",
       "      <th>Weather conditions</th>\n",
       "    </tr>\n",
       "  </thead>\n",
       "  <tbody>\n",
       "    <tr>\n",
       "      <th>0</th>\n",
       "      <td>2023-08-08</td>\n",
       "      <td>Sobea</td>\n",
       "      <td>Sobea</td>\n",
       "      <td>Nakuru</td>\n",
       "      <td>Nakuru-Eldoret Highway</td>\n",
       "      <td>Head on Collision</td>\n",
       "      <td>Passengers</td>\n",
       "      <td>4</td>\n",
       "      <td>4.30 pm</td>\n",
       "      <td>NaN</td>\n",
       "    </tr>\n",
       "    <tr>\n",
       "      <th>1</th>\n",
       "      <td>2023-08-07</td>\n",
       "      <td>Maai-Mahiu</td>\n",
       "      <td>Naivasha</td>\n",
       "      <td>Nakuru</td>\n",
       "      <td>Maai-Mahiu Naivasha Highway</td>\n",
       "      <td>vehicle and motorcycle collision</td>\n",
       "      <td>Passengers</td>\n",
       "      <td>1</td>\n",
       "      <td>5.50 pm</td>\n",
       "      <td>NaN</td>\n",
       "    </tr>\n",
       "    <tr>\n",
       "      <th>2</th>\n",
       "      <td>2023-07-25</td>\n",
       "      <td>Ntulele</td>\n",
       "      <td>Ntulele</td>\n",
       "      <td>Narok</td>\n",
       "      <td>Narok Mai Mahiu road</td>\n",
       "      <td>Head on Collision</td>\n",
       "      <td>Drivers/Occupants</td>\n",
       "      <td>4</td>\n",
       "      <td>NaN</td>\n",
       "      <td>NaN</td>\n",
       "    </tr>\n",
       "    <tr>\n",
       "      <th>3</th>\n",
       "      <td>2022-12-02</td>\n",
       "      <td>Suswa</td>\n",
       "      <td>Suswa</td>\n",
       "      <td>Narok</td>\n",
       "      <td>Narok Mai Mahiu road</td>\n",
       "      <td>Head on Collision</td>\n",
       "      <td>Driver and passengers</td>\n",
       "      <td>3</td>\n",
       "      <td>6.00 pm</td>\n",
       "      <td>NaN</td>\n",
       "    </tr>\n",
       "    <tr>\n",
       "      <th>4</th>\n",
       "      <td>2022-12-01</td>\n",
       "      <td>Mutira</td>\n",
       "      <td>Mutira</td>\n",
       "      <td>Kirinyaga</td>\n",
       "      <td>Kerugoya-Karatina Road</td>\n",
       "      <td>Run over</td>\n",
       "      <td>Pedestrian</td>\n",
       "      <td>1</td>\n",
       "      <td>NaN</td>\n",
       "      <td>NaN</td>\n",
       "    </tr>\n",
       "    <tr>\n",
       "      <th>...</th>\n",
       "      <td>...</td>\n",
       "      <td>...</td>\n",
       "      <td>...</td>\n",
       "      <td>...</td>\n",
       "      <td>...</td>\n",
       "      <td>...</td>\n",
       "      <td>...</td>\n",
       "      <td>...</td>\n",
       "      <td>...</td>\n",
       "      <td>...</td>\n",
       "    </tr>\n",
       "    <tr>\n",
       "      <th>76</th>\n",
       "      <td>2022-06-03</td>\n",
       "      <td>Losengeli</td>\n",
       "      <td>Sabatia</td>\n",
       "      <td>Vihiga</td>\n",
       "      <td>Nairobi Kakamega road</td>\n",
       "      <td>Bus lost control and rolled over</td>\n",
       "      <td>Passengers</td>\n",
       "      <td>1</td>\n",
       "      <td>NaN</td>\n",
       "      <td>NaN</td>\n",
       "    </tr>\n",
       "    <tr>\n",
       "      <th>77</th>\n",
       "      <td>2022-05-31</td>\n",
       "      <td>Isinya</td>\n",
       "      <td>Isinya</td>\n",
       "      <td>Kajiado</td>\n",
       "      <td>Namanga Road</td>\n",
       "      <td>Car rammed into a trailer</td>\n",
       "      <td>Passengers</td>\n",
       "      <td>1</td>\n",
       "      <td>11.00 pm</td>\n",
       "      <td>NaN</td>\n",
       "    </tr>\n",
       "    <tr>\n",
       "      <th>78</th>\n",
       "      <td>2022-05-30</td>\n",
       "      <td>Kinugi</td>\n",
       "      <td>Kinugi</td>\n",
       "      <td>Nakuru</td>\n",
       "      <td>Naivasha Nairobi Highway</td>\n",
       "      <td>Truck driver collided with an oncoming matatu</td>\n",
       "      <td>Passengers</td>\n",
       "      <td>1</td>\n",
       "      <td>NaN</td>\n",
       "      <td>NaN</td>\n",
       "    </tr>\n",
       "    <tr>\n",
       "      <th>79</th>\n",
       "      <td>2022-02-28</td>\n",
       "      <td>Kinugi</td>\n",
       "      <td>Kinugi</td>\n",
       "      <td>Nakuru</td>\n",
       "      <td>Nakuru - Nairobi highway</td>\n",
       "      <td>Car rammed into a lorry</td>\n",
       "      <td>Passengers</td>\n",
       "      <td>4</td>\n",
       "      <td>NaN</td>\n",
       "      <td>NaN</td>\n",
       "    </tr>\n",
       "    <tr>\n",
       "      <th>80</th>\n",
       "      <td>2023-08-08</td>\n",
       "      <td>Sobea</td>\n",
       "      <td>Sobea</td>\n",
       "      <td>Nakuru</td>\n",
       "      <td>Nakuru Eldoret Highway</td>\n",
       "      <td>matatu collided with a truck</td>\n",
       "      <td>Passengers</td>\n",
       "      <td>2</td>\n",
       "      <td>4.30 am</td>\n",
       "      <td>NaN</td>\n",
       "    </tr>\n",
       "  </tbody>\n",
       "</table>\n",
       "<p>81 rows × 10 columns</p>\n",
       "</div>"
      ],
      "text/plain": [
       "         Date Accident Spot      Area     County                Road/ Highway  \\\n",
       "0  2023-08-08         Sobea     Sobea     Nakuru       Nakuru-Eldoret Highway   \n",
       "1  2023-08-07    Maai-Mahiu  Naivasha     Nakuru  Maai-Mahiu Naivasha Highway   \n",
       "2  2023-07-25       Ntulele   Ntulele      Narok         Narok Mai Mahiu road   \n",
       "3  2022-12-02         Suswa     Suswa      Narok         Narok Mai Mahiu road   \n",
       "4  2022-12-01        Mutira    Mutira  Kirinyaga       Kerugoya-Karatina Road   \n",
       "..        ...           ...       ...        ...                          ...   \n",
       "76 2022-06-03     Losengeli   Sabatia     Vihiga        Nairobi Kakamega road   \n",
       "77 2022-05-31        Isinya    Isinya    Kajiado                 Namanga Road   \n",
       "78 2022-05-30        Kinugi    Kinugi     Nakuru     Naivasha Nairobi Highway   \n",
       "79 2022-02-28        Kinugi    Kinugi     Nakuru    Nakuru - Nairobi highway    \n",
       "80 2023-08-08         Sobea     Sobea     Nakuru       Nakuru Eldoret Highway   \n",
       "\n",
       "                     Brief Accident Details/Cause                Victims  \\\n",
       "0                               Head on Collision             Passengers   \n",
       "1                vehicle and motorcycle collision             Passengers   \n",
       "2                               Head on Collision      Drivers/Occupants   \n",
       "3                               Head on Collision  Driver and passengers   \n",
       "4                                        Run over             Pedestrian   \n",
       "..                                            ...                    ...   \n",
       "76               Bus lost control and rolled over             Passengers   \n",
       "77                      Car rammed into a trailer             Passengers   \n",
       "78  Truck driver collided with an oncoming matatu             Passengers   \n",
       "79                        Car rammed into a lorry             Passengers   \n",
       "80                   matatu collided with a truck             Passengers   \n",
       "\n",
       "   Total people confirmed dead Time of the Accidents Weather conditions  \n",
       "0                            4               4.30 pm                NaN  \n",
       "1                            1               5.50 pm                NaN  \n",
       "2                            4                   NaN                NaN  \n",
       "3                            3               6.00 pm                NaN  \n",
       "4                            1                   NaN                NaN  \n",
       "..                         ...                   ...                ...  \n",
       "76                           1                   NaN                NaN  \n",
       "77                           1              11.00 pm                NaN  \n",
       "78                           1                   NaN                NaN  \n",
       "79                           4                   NaN                NaN  \n",
       "80                           2               4.30 am                NaN  \n",
       "\n",
       "[81 rows x 10 columns]"
      ]
     },
     "execution_count": 31,
     "metadata": {},
     "output_type": "execute_result"
    }
   ],
   "source": [
    "traffic_df"
   ]
  },
  {
   "cell_type": "code",
   "execution_count": 27,
   "metadata": {},
   "outputs": [
    {
     "data": {
      "text/plain": [
       "Road/ Highway                  0\n",
       "Victims                        0\n",
       "Total people confirmed dead    0\n",
       "Time of the Accidents          0\n",
       "Hour                           0\n",
       "Road/Highway Encoded           0\n",
       "is_road_safe                   0\n",
       "dtype: int64"
      ]
     },
     "execution_count": 27,
     "metadata": {},
     "output_type": "execute_result"
    }
   ],
   "source": [
    "traffic_df2[\"Victims\"] = traffic_df2[\"Victims\"]"
   ]
  },
  {
   "cell_type": "code",
   "execution_count": 11,
   "metadata": {},
   "outputs": [
    {
     "name": "stdout",
     "output_type": "stream",
     "text": [
      "<class 'pandas.core.frame.DataFrame'>\n",
      "RangeIndex: 81 entries, 0 to 80\n",
      "Data columns (total 4 columns):\n",
      " #   Column                       Non-Null Count  Dtype  \n",
      "---  ------                       --------------  -----  \n",
      " 0   Road/ Highway                80 non-null     object \n",
      " 1   Victims                      81 non-null     object \n",
      " 2   Total people confirmed dead  81 non-null     float64\n",
      " 3   Time of the Accidents        25 non-null     object \n",
      "dtypes: float64(1), object(3)\n",
      "memory usage: 2.7+ KB\n"
     ]
    }
   ],
   "source": [
    "#convert the column to numeric\n",
    "traffic_df2[\"Total people confirmed dead\"] = pd.to_numeric(traffic_df2[\"Total people confirmed dead\"], errors=\"coerce\")\n",
    "traffic_df2[\"Total people confirmed dead\"] = traffic_df2[\"Total people confirmed dead\"].fillna(0)\n",
    "traffic_df2.info()"
   ]
  },
  {
   "cell_type": "code",
   "execution_count": 12,
   "metadata": {},
   "outputs": [
    {
     "data": {
      "text/html": [
       "<div>\n",
       "<style scoped>\n",
       "    .dataframe tbody tr th:only-of-type {\n",
       "        vertical-align: middle;\n",
       "    }\n",
       "\n",
       "    .dataframe tbody tr th {\n",
       "        vertical-align: top;\n",
       "    }\n",
       "\n",
       "    .dataframe thead th {\n",
       "        text-align: right;\n",
       "    }\n",
       "</style>\n",
       "<table border=\"1\" class=\"dataframe\">\n",
       "  <thead>\n",
       "    <tr style=\"text-align: right;\">\n",
       "      <th></th>\n",
       "      <th>Time of the Accidents</th>\n",
       "      <th>Hour</th>\n",
       "    </tr>\n",
       "  </thead>\n",
       "  <tbody>\n",
       "    <tr>\n",
       "      <th>0</th>\n",
       "      <td>4.30 pm</td>\n",
       "      <td>16</td>\n",
       "    </tr>\n",
       "    <tr>\n",
       "      <th>1</th>\n",
       "      <td>5.50 pm</td>\n",
       "      <td>17</td>\n",
       "    </tr>\n",
       "    <tr>\n",
       "      <th>2</th>\n",
       "      <td>5.50 pm</td>\n",
       "      <td>17</td>\n",
       "    </tr>\n",
       "    <tr>\n",
       "      <th>3</th>\n",
       "      <td>6.00 pm</td>\n",
       "      <td>18</td>\n",
       "    </tr>\n",
       "    <tr>\n",
       "      <th>4</th>\n",
       "      <td>6.00 pm</td>\n",
       "      <td>18</td>\n",
       "    </tr>\n",
       "    <tr>\n",
       "      <th>...</th>\n",
       "      <td>...</td>\n",
       "      <td>...</td>\n",
       "    </tr>\n",
       "    <tr>\n",
       "      <th>76</th>\n",
       "      <td>2.00 pm</td>\n",
       "      <td>14</td>\n",
       "    </tr>\n",
       "    <tr>\n",
       "      <th>77</th>\n",
       "      <td>11.00 pm</td>\n",
       "      <td>23</td>\n",
       "    </tr>\n",
       "    <tr>\n",
       "      <th>78</th>\n",
       "      <td>11.00 pm</td>\n",
       "      <td>23</td>\n",
       "    </tr>\n",
       "    <tr>\n",
       "      <th>79</th>\n",
       "      <td>11.00 pm</td>\n",
       "      <td>23</td>\n",
       "    </tr>\n",
       "    <tr>\n",
       "      <th>80</th>\n",
       "      <td>4.30 am</td>\n",
       "      <td>4</td>\n",
       "    </tr>\n",
       "  </tbody>\n",
       "</table>\n",
       "<p>81 rows × 2 columns</p>\n",
       "</div>"
      ],
      "text/plain": [
       "   Time of the Accidents  Hour\n",
       "0                4.30 pm    16\n",
       "1                5.50 pm    17\n",
       "2                5.50 pm    17\n",
       "3                6.00 pm    18\n",
       "4                6.00 pm    18\n",
       "..                   ...   ...\n",
       "76               2.00 pm    14\n",
       "77              11.00 pm    23\n",
       "78              11.00 pm    23\n",
       "79              11.00 pm    23\n",
       "80               4.30 am     4\n",
       "\n",
       "[81 rows x 2 columns]"
      ]
     },
     "execution_count": 12,
     "metadata": {},
     "output_type": "execute_result"
    }
   ],
   "source": [
    "traffic_df2[\"Time of the Accidents\"] = traffic_df2[\"Time of the Accidents\"].ffill()\n",
    "from datetime import datetime\n",
    "\n",
    "# Function to convert 12-hour time to 24-hour format and extract the hour\n",
    "def convert_to_24_hour_and_extract_hour(time_str):\n",
    "    try:\n",
    "        # Parse time in 12-hour format with AM/PM\n",
    "        time_obj = datetime.strptime(time_str.strip(), '%I.%M %p')\n",
    "        # Convert to 24-hour format and extract the hour\n",
    "        return time_obj.hour\n",
    "    except ValueError:\n",
    "        return None\n",
    "\n",
    "# Apply the function to the \"Time of the Accidents\" column\n",
    "traffic_df2[\"Hour\"] = traffic_df2[\"Time of the Accidents\"].apply(convert_to_24_hour_and_extract_hour)\n",
    "\n",
    "# View the updated DataFrame\n",
    "traffic_df2[[\"Time of the Accidents\", \"Hour\"]]\n"
   ]
  },
  {
   "cell_type": "code",
   "execution_count": 13,
   "metadata": {},
   "outputs": [
    {
     "data": {
      "text/plain": [
       "array(['Nakuru Eldoret Highway', 'Maai Mahiu Naivasha Highway',\n",
       "       'Narok Mai Mahiu road', 'Kerugoya Karatina Road',\n",
       "       'Kenol Sagana Road', 'Meru Embu Road', 'Thika Road',\n",
       "       'Nairobi   Nakuru highway', 'Mombasa   Nairobi highway',\n",
       "       'Nakuru Kericho Highway', 'Bomet   Sotik highway',\n",
       "       'Kisumu Highway', 'Kisumu   Busia Road',\n",
       "       'Nakuru   Nairobi highway', 'Narok road', 'Isinya Kiserian Road',\n",
       "       'Nairobi Express way', 'Homabay  Kendubay Road',\n",
       "       'Eldoret Webuye Highway', 'Marsabit Isiolo Highway',\n",
       "       'Migori Kisii Isebania Highway', 'Kisii Keroka Road',\n",
       "       'Rukenya Kimunye Road', 'Sagana Kenol Road', 'Kilifi Malindi Road',\n",
       "       'Sagana Kagio Road', 'Nakuru Eldoret highway',\n",
       "       'Naromoru Nanyuki Road', 'Kenol Muranga road',\n",
       "       'Migori Isibania Road', 'Lodwar Kakuma Road',\n",
       "       'Kakamega Kisumu Road', 'Namanga Road', 'Kisumu Kakamega road',\n",
       "       'Thika Kitui Highway', 'Nairobi Kakamega road',\n",
       "       'Naivasha Nairobi Highway'], dtype=object)"
      ]
     },
     "execution_count": 13,
     "metadata": {},
     "output_type": "execute_result"
    }
   ],
   "source": [
    "#convert the Road/Highway column to numeric\n",
    "traffic_df2.dropna(axis = 0, inplace=True)\n",
    "traffic_df2[\"Road/ Highway\"] = traffic_df2[\"Road/ Highway\"].str.strip().str.replace(\"-\", \" \")\n",
    "traffic_df2[\"Road/ Highway\"].unique()"
   ]
  },
  {
   "cell_type": "code",
   "execution_count": 14,
   "metadata": {},
   "outputs": [
    {
     "name": "stdout",
     "output_type": "stream",
     "text": [
      "Label Encoding Mapping: {'Bomet   Sotik highway': 0, 'Eldoret Webuye Highway': 1, 'Homabay  Kendubay Road': 2, 'Isinya Kiserian Road': 3, 'Kakamega Kisumu Road': 4, 'Kenol Muranga road': 5, 'Kenol Sagana Road': 6, 'Kerugoya Karatina Road': 7, 'Kilifi Malindi Road': 8, 'Kisii Keroka Road': 9, 'Kisumu   Busia Road': 10, 'Kisumu Highway': 11, 'Kisumu Kakamega road': 12, 'Lodwar Kakuma Road': 13, 'Maai Mahiu Naivasha Highway': 14, 'Marsabit Isiolo Highway': 15, 'Meru Embu Road': 16, 'Migori Isibania Road': 17, 'Migori Kisii Isebania Highway': 18, 'Mombasa   Nairobi highway': 19, 'Nairobi   Nakuru highway': 20, 'Nairobi Express way': 21, 'Nairobi Kakamega road': 22, 'Naivasha Nairobi Highway': 23, 'Nakuru   Nairobi highway': 24, 'Nakuru Eldoret Highway': 25, 'Nakuru Eldoret highway': 26, 'Nakuru Kericho Highway': 27, 'Namanga Road': 28, 'Narok Mai Mahiu road': 29, 'Narok road': 30, 'Naromoru Nanyuki Road': 31, 'Rukenya Kimunye Road': 32, 'Sagana Kagio Road': 33, 'Sagana Kenol Road': 34, 'Thika Kitui Highway': 35, 'Thika Road': 36}\n"
     ]
    }
   ],
   "source": [
    "from sklearn.preprocessing import LabelEncoder\n",
    "label_encoder = LabelEncoder()\n",
    "#apply the label encoder to the roads column\n",
    "traffic_df2[\"Road/Highway Encoded\"] = label_encoder.fit_transform(traffic_df2[\"Road/ Highway\"])\n",
    "\n",
    "# Check the mapping\n",
    "mapping = dict(zip(label_encoder.classes_, label_encoder.transform(label_encoder.classes_)))\n",
    "print(\"Label Encoding Mapping:\", mapping)"
   ]
  },
  {
   "cell_type": "code",
   "execution_count": 15,
   "metadata": {},
   "outputs": [
    {
     "data": {
      "text/html": [
       "<div>\n",
       "<style scoped>\n",
       "    .dataframe tbody tr th:only-of-type {\n",
       "        vertical-align: middle;\n",
       "    }\n",
       "\n",
       "    .dataframe tbody tr th {\n",
       "        vertical-align: top;\n",
       "    }\n",
       "\n",
       "    .dataframe thead th {\n",
       "        text-align: right;\n",
       "    }\n",
       "</style>\n",
       "<table border=\"1\" class=\"dataframe\">\n",
       "  <thead>\n",
       "    <tr style=\"text-align: right;\">\n",
       "      <th></th>\n",
       "      <th>Road/ Highway</th>\n",
       "      <th>Victims</th>\n",
       "      <th>Total people confirmed dead</th>\n",
       "      <th>Time of the Accidents</th>\n",
       "      <th>Hour</th>\n",
       "      <th>Road/Highway Encoded</th>\n",
       "      <th>is_road_safe</th>\n",
       "    </tr>\n",
       "  </thead>\n",
       "  <tbody>\n",
       "    <tr>\n",
       "      <th>0</th>\n",
       "      <td>Nakuru Eldoret Highway</td>\n",
       "      <td>Passengers</td>\n",
       "      <td>4.0</td>\n",
       "      <td>4.30 pm</td>\n",
       "      <td>16</td>\n",
       "      <td>25</td>\n",
       "      <td>0</td>\n",
       "    </tr>\n",
       "    <tr>\n",
       "      <th>1</th>\n",
       "      <td>Maai Mahiu Naivasha Highway</td>\n",
       "      <td>Passengers</td>\n",
       "      <td>1.0</td>\n",
       "      <td>5.50 pm</td>\n",
       "      <td>17</td>\n",
       "      <td>14</td>\n",
       "      <td>1</td>\n",
       "    </tr>\n",
       "    <tr>\n",
       "      <th>2</th>\n",
       "      <td>Narok Mai Mahiu road</td>\n",
       "      <td>Drivers/Occupants</td>\n",
       "      <td>4.0</td>\n",
       "      <td>5.50 pm</td>\n",
       "      <td>17</td>\n",
       "      <td>29</td>\n",
       "      <td>0</td>\n",
       "    </tr>\n",
       "    <tr>\n",
       "      <th>3</th>\n",
       "      <td>Narok Mai Mahiu road</td>\n",
       "      <td>Driver and passengers</td>\n",
       "      <td>3.0</td>\n",
       "      <td>6.00 pm</td>\n",
       "      <td>18</td>\n",
       "      <td>29</td>\n",
       "      <td>0</td>\n",
       "    </tr>\n",
       "    <tr>\n",
       "      <th>4</th>\n",
       "      <td>Kerugoya Karatina Road</td>\n",
       "      <td>Pedestrian</td>\n",
       "      <td>1.0</td>\n",
       "      <td>6.00 pm</td>\n",
       "      <td>18</td>\n",
       "      <td>7</td>\n",
       "      <td>1</td>\n",
       "    </tr>\n",
       "    <tr>\n",
       "      <th>...</th>\n",
       "      <td>...</td>\n",
       "      <td>...</td>\n",
       "      <td>...</td>\n",
       "      <td>...</td>\n",
       "      <td>...</td>\n",
       "      <td>...</td>\n",
       "      <td>...</td>\n",
       "    </tr>\n",
       "    <tr>\n",
       "      <th>76</th>\n",
       "      <td>Nairobi Kakamega road</td>\n",
       "      <td>Passengers</td>\n",
       "      <td>1.0</td>\n",
       "      <td>2.00 pm</td>\n",
       "      <td>14</td>\n",
       "      <td>22</td>\n",
       "      <td>1</td>\n",
       "    </tr>\n",
       "    <tr>\n",
       "      <th>77</th>\n",
       "      <td>Namanga Road</td>\n",
       "      <td>Passengers</td>\n",
       "      <td>1.0</td>\n",
       "      <td>11.00 pm</td>\n",
       "      <td>23</td>\n",
       "      <td>28</td>\n",
       "      <td>1</td>\n",
       "    </tr>\n",
       "    <tr>\n",
       "      <th>78</th>\n",
       "      <td>Naivasha Nairobi Highway</td>\n",
       "      <td>Passengers</td>\n",
       "      <td>1.0</td>\n",
       "      <td>11.00 pm</td>\n",
       "      <td>23</td>\n",
       "      <td>23</td>\n",
       "      <td>1</td>\n",
       "    </tr>\n",
       "    <tr>\n",
       "      <th>79</th>\n",
       "      <td>Nakuru   Nairobi highway</td>\n",
       "      <td>Passengers</td>\n",
       "      <td>4.0</td>\n",
       "      <td>11.00 pm</td>\n",
       "      <td>23</td>\n",
       "      <td>24</td>\n",
       "      <td>0</td>\n",
       "    </tr>\n",
       "    <tr>\n",
       "      <th>80</th>\n",
       "      <td>Nakuru Eldoret Highway</td>\n",
       "      <td>Passengers</td>\n",
       "      <td>2.0</td>\n",
       "      <td>4.30 am</td>\n",
       "      <td>4</td>\n",
       "      <td>25</td>\n",
       "      <td>0</td>\n",
       "    </tr>\n",
       "  </tbody>\n",
       "</table>\n",
       "<p>80 rows × 7 columns</p>\n",
       "</div>"
      ],
      "text/plain": [
       "                  Road/ Highway                Victims  \\\n",
       "0        Nakuru Eldoret Highway             Passengers   \n",
       "1   Maai Mahiu Naivasha Highway             Passengers   \n",
       "2          Narok Mai Mahiu road      Drivers/Occupants   \n",
       "3          Narok Mai Mahiu road  Driver and passengers   \n",
       "4        Kerugoya Karatina Road             Pedestrian   \n",
       "..                          ...                    ...   \n",
       "76        Nairobi Kakamega road             Passengers   \n",
       "77                 Namanga Road             Passengers   \n",
       "78     Naivasha Nairobi Highway             Passengers   \n",
       "79     Nakuru   Nairobi highway             Passengers   \n",
       "80       Nakuru Eldoret Highway             Passengers   \n",
       "\n",
       "    Total people confirmed dead Time of the Accidents  Hour  \\\n",
       "0                           4.0               4.30 pm    16   \n",
       "1                           1.0               5.50 pm    17   \n",
       "2                           4.0               5.50 pm    17   \n",
       "3                           3.0               6.00 pm    18   \n",
       "4                           1.0               6.00 pm    18   \n",
       "..                          ...                   ...   ...   \n",
       "76                          1.0               2.00 pm    14   \n",
       "77                          1.0              11.00 pm    23   \n",
       "78                          1.0              11.00 pm    23   \n",
       "79                          4.0              11.00 pm    23   \n",
       "80                          2.0               4.30 am     4   \n",
       "\n",
       "    Road/Highway Encoded  is_road_safe  \n",
       "0                     25             0  \n",
       "1                     14             1  \n",
       "2                     29             0  \n",
       "3                     29             0  \n",
       "4                      7             1  \n",
       "..                   ...           ...  \n",
       "76                    22             1  \n",
       "77                    28             1  \n",
       "78                    23             1  \n",
       "79                    24             0  \n",
       "80                    25             0  \n",
       "\n",
       "[80 rows x 7 columns]"
      ]
     },
     "execution_count": 15,
     "metadata": {},
     "output_type": "execute_result"
    }
   ],
   "source": [
    "# add a column to serve as the target variable\n",
    "traffic_df2[\"is_road_safe\"] = traffic_df2.apply(lambda row: 1 if (row[\"Total people confirmed dead\"] <= 1 ) else 0, axis =1)#1 road is safe 0 unsafe\n",
    "traffic_df2[\"is_road_safe\"].value_counts()\n",
    "traffic_df2"
   ]
  },
  {
   "cell_type": "code",
   "execution_count": 16,
   "metadata": {},
   "outputs": [
    {
     "data": {
      "text/plain": [
       "is_road_safe\n",
       "0    49\n",
       "1    31\n",
       "Name: count, dtype: int64"
      ]
     },
     "execution_count": 16,
     "metadata": {},
     "output_type": "execute_result"
    }
   ],
   "source": [
    "traffic_df2[\"is_road_safe\"].value_counts()"
   ]
  },
  {
   "cell_type": "markdown",
   "metadata": {},
   "source": [
    "## Model Training"
   ]
  },
  {
   "cell_type": "code",
   "execution_count": 17,
   "metadata": {},
   "outputs": [],
   "source": [
    "#split the data into training and test sets\n",
    "X = traffic_df2[[\"Total people confirmed dead\", \"Hour\", \"Road/Highway Encoded\"]].values\n",
    "y = traffic_df2[\"is_road_safe\"].values"
   ]
  },
  {
   "cell_type": "code",
   "execution_count": 18,
   "metadata": {},
   "outputs": [],
   "source": [
    "from sklearn.model_selection import train_test_split\n",
    "X_train, X_test, y_train, y_test = train_test_split(X, y, test_size=.25, stratify=y, shuffle=True, random_state=1)"
   ]
  },
  {
   "cell_type": "code",
   "execution_count": 19,
   "metadata": {},
   "outputs": [
    {
     "data": {
      "text/plain": [
       "((60, 3), (20, 3))"
      ]
     },
     "execution_count": 19,
     "metadata": {},
     "output_type": "execute_result"
    }
   ],
   "source": [
    "#scale the data\n",
    "from sklearn.preprocessing import StandardScaler\n",
    "scaler = StandardScaler()\n",
    "X_train_scaled = scaler.fit_transform(X_train)\n",
    "X_test_scaled = scaler.transform(X_test)\n",
    "X_train_scaled.shape, X_test_scaled.shape\n"
   ]
  },
  {
   "cell_type": "code",
   "execution_count": 20,
   "metadata": {},
   "outputs": [
    {
     "name": "stdout",
     "output_type": "stream",
     "text": [
      "RandomForest: Accuracy: 1.0\n",
      "SVC: Accuracy: 0.85\n",
      "Logistic Regression: Accuracy: 1.0\n",
      "KNN: Accuracy: 0.85\n"
     ]
    }
   ],
   "source": [
    "from sklearn.ensemble import RandomForestClassifier\n",
    "from sklearn.svm import SVC\n",
    "from sklearn.linear_model import LogisticRegression\n",
    "from sklearn.neighbors import KNeighborsClassifier\n",
    "from sklearn.metrics import accuracy_score\n",
    "\n",
    "\n",
    "models = {\"RandomForest\": RandomForestClassifier(),\n",
    "          \"SVC\":SVC(),\n",
    "          \"Logistic Regression\":LogisticRegression(),\n",
    "          \"KNN\": KNeighborsClassifier()}\n",
    "scores = {}\n",
    "for name, model in models.items():\n",
    "    model.fit(X_train_scaled, y_train)\n",
    "    predictions = model.predict(X_test_scaled)\n",
    "    accuracy = accuracy_score(y_test, predictions)\n",
    "    scores[name] = accuracy\n",
    "    print(f\"{name}: Accuracy: {accuracy}\")\n"
   ]
  },
  {
   "cell_type": "code",
   "execution_count": 21,
   "metadata": {},
   "outputs": [
    {
     "data": {
      "image/png": "[encoded data removed]",
      "text/plain": [
       "<Figure size 640x480 with 1 Axes>"
      ]
     },
     "metadata": {},
     "output_type": "display_data"
    }
   ],
   "source": [
    "#plot the results\n",
    "import matplotlib.pyplot as plt\n",
    "plt.bar(scores.keys(),list(scores.values()))\n",
    "plt.title(\"Plot of Accuracy of Different Models\")\n",
    "plt.show()"
   ]
  },
  {
   "cell_type": "markdown",
   "metadata": {},
   "source": [
    "### Hyper-parameter tuning"
   ]
  },
  {
   "cell_type": "code",
   "execution_count": 22,
   "metadata": {},
   "outputs": [
    {
     "name": "stdout",
     "output_type": "stream",
     "text": [
      "Best parameters for RandomForest: {'max_depth': None, 'min_samples_split': 2, 'n_estimators': 50}\n",
      "Best score for RandomForest: 1.0\n",
      "\n",
      "Best parameters for SVC: {'C': 10, 'gamma': 'scale', 'kernel': 'linear'}\n",
      "Best score for SVC: 0.9833333333333334\n",
      "\n",
      "Best parameters for Logistic Regression: {'C': 10}\n",
      "Best score for Logistic Regression: 1.0\n",
      "\n",
      "Best parameters for KNN: {'n_neighbors': 2}\n",
      "Best score for KNN: 0.7\n",
      "\n"
     ]
    }
   ],
   "source": [
    "from sklearn.model_selection import GridSearchCV\n",
    "#perform a grid search over the parameter of the different models.\n",
    "param_grids = {\n",
    "    \"RandomForest\": {\n",
    "        \"n_estimators\": [50, 100, 150, 200],\n",
    "        \"max_depth\": [None, 2, 5, 6, 10],\n",
    "        \"min_samples_split\": [2, 3, 5]\n",
    "    },\n",
    "    \"SVC\": {\n",
    "        \"C\": [0.1, 1, 10],\n",
    "        \"kernel\": ['linear', 'rbf'],\n",
    "        \"gamma\": ['scale', 'auto']\n",
    "    },\n",
    "    \"Logistic Regression\" :{ \n",
    "        \"C\": [0.1, 1, 10],\n",
    "        },\n",
    "    \"KNN\" : {\"n_neighbors\":[2,5,7]}\n",
    "}\n",
    "\n",
    "best_models = {}\n",
    "best_scores = {}\n",
    "\n",
    "for name,model in models.items():\n",
    "    grid_search = GridSearchCV(estimator=model, param_grid=param_grids[name], cv = 5)\n",
    "    #fit the model\n",
    "    grid_search.fit(X_train_scaled, y_train)\n",
    "\n",
    "    best_models[name] = grid_search.best_estimator_\n",
    "    best_scores[name] = grid_search.best_score_\n",
    "\n",
    "    #print best parameters and score\n",
    "    print(f\"Best parameters for {name}: {grid_search.best_params_}\")\n",
    "    print(f\"Best score for {name}: {grid_search.best_score_}\\n\")"
   ]
  },
  {
   "cell_type": "code",
   "execution_count": 23,
   "metadata": {},
   "outputs": [
    {
     "data": {
      "image/png": "[encoded data removed]",
      "text/plain": [
       "<Figure size 640x480 with 1 Axes>"
      ]
     },
     "metadata": {},
     "output_type": "display_data"
    }
   ],
   "source": [
    "#plot the results\n",
    "plt.bar(best_scores.keys(),list(best_scores.values()))\n",
    "plt.show()"
   ]
  },
  {
   "cell_type": "markdown",
   "metadata": {},
   "source": [
    "## Model Evaluation\n"
   ]
  },
  {
   "cell_type": "code",
   "execution_count": 24,
   "metadata": {},
   "outputs": [
    {
     "name": "stdout",
     "output_type": "stream",
     "text": [
      "Report for RandomForest:\n",
      "              precision    recall  f1-score   support\n",
      "\n",
      "           0       1.00      1.00      1.00        12\n",
      "           1       1.00      1.00      1.00         8\n",
      "\n",
      "    accuracy                           1.00        20\n",
      "   macro avg       1.00      1.00      1.00        20\n",
      "weighted avg       1.00      1.00      1.00        20\n",
      " \n",
      "\n",
      "Report for SVC:\n",
      "              precision    recall  f1-score   support\n",
      "\n",
      "           0       1.00      1.00      1.00        12\n",
      "           1       1.00      1.00      1.00         8\n",
      "\n",
      "    accuracy                           1.00        20\n",
      "   macro avg       1.00      1.00      1.00        20\n",
      "weighted avg       1.00      1.00      1.00        20\n",
      " \n",
      "\n",
      "Report for Logistic Regression:\n",
      "              precision    recall  f1-score   support\n",
      "\n",
      "           0       1.00      1.00      1.00        12\n",
      "           1       1.00      1.00      1.00         8\n",
      "\n",
      "    accuracy                           1.00        20\n",
      "   macro avg       1.00      1.00      1.00        20\n",
      "weighted avg       1.00      1.00      1.00        20\n",
      " \n",
      "\n",
      "Report for KNN:\n",
      "              precision    recall  f1-score   support\n",
      "\n",
      "           0       0.71      1.00      0.83        12\n",
      "           1       1.00      0.38      0.55         8\n",
      "\n",
      "    accuracy                           0.75        20\n",
      "   macro avg       0.85      0.69      0.69        20\n",
      "weighted avg       0.82      0.75      0.71        20\n",
      " \n",
      "\n"
     ]
    }
   ],
   "source": [
    "from sklearn.metrics import classification_report\n",
    "#evaluate the best model \n",
    "for name , model in best_models.items():\n",
    "    print(f\"Report for {name}:\")\n",
    "    y_pred = model.predict(X_test_scaled)\n",
    "    report = classification_report(y_test,y_pred)\n",
    "    print(report, \"\\n\")\n"
   ]
  },
  {
   "cell_type": "code",
   "execution_count": 25,
   "metadata": {},
   "outputs": [
    {
     "data": {
      "image/png": "[encoded data removed]",
      "text/plain": [
       "<Figure size 800x600 with 1 Axes>"
      ]
     },
     "metadata": {},
     "output_type": "display_data"
    },
    {
     "name": "stdout",
     "output_type": "stream",
     "text": [
      "AUC: 0.69\n"
     ]
    }
   ],
   "source": [
    "from sklearn.metrics import roc_curve, roc_auc_score\n",
    "fpr, tpr, thresholds = roc_curve(y_test, y_pred)\n",
    "#auc score\n",
    "roc_auc = roc_auc_score(y_test, y_pred)\n",
    "\n",
    "# Plot the ROC curve\n",
    "plt.figure(figsize=(8, 6))\n",
    "plt.plot(fpr, tpr, color='blue', label=f'ROC curve (AUC = {roc_auc:.2f})')\n",
    "plt.plot([0, 1], [0, 1], color='gray', linestyle='--')  # Random classifier line\n",
    "plt.xlabel('False Positive Rate')\n",
    "plt.ylabel('True Positive Rate')\n",
    "plt.title('Receiver Operating Characteristic (ROC) Curve')\n",
    "plt.legend(loc='best')\n",
    "plt.grid(True)\n",
    "plt.show()\n",
    "\n",
    "# Print the AUC score\n",
    "print(f\"AUC: {roc_auc:.2f}\")"
   ]
  },
  {
   "cell_type": "markdown",
   "metadata": {},
   "source": [
    "### Save the best model"
   ]
  },
  {
   "cell_type": "code",
   "execution_count": 26,
   "metadata": {},
   "outputs": [
    {
     "data": {
      "text/plain": [
       "['model.pkl']"
      ]
     },
     "execution_count": 26,
     "metadata": {},
     "output_type": "execute_result"
    }
   ],
   "source": [
    "import joblib\n",
    "model = best_models.get(\"RandomForest\")\n",
    "joblib.dump(model, \"model.pkl\")"
   ]
  }
 ],
 "metadata": {
  "kernelspec": {
   "display_name": "myenv",
   "language": "python",
   "name": "python3"
  },
  "language_info": {
   "codemirror_mode": {
    "name": "ipython",
    "version": 3
   },
   "file_extension": ".py",
   "mimetype": "text/x-python",
   "name": "python",
   "nbconvert_exporter": "python",
   "pygments_lexer": "ipython3",
   "version": "3.10.6"
  }
 },
 "nbformat": 4,
 "nbformat_minor": 2
}
